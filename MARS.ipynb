{
 "cells": [
  {
   "cell_type": "markdown",
   "metadata": {},
   "source": [
    "## MARS PROJECT\n",
    "\n",
    "**Humanity has finally reached Mars. There are 4 colonies, and the humans are more or less adapting to life there**\n",
    "\n",
    "This project aims to utilize basic python knowledge in order to solve a problem related to colonies and a volcano that is about to explode, using functions to predict where would be the safest population to evacuate and how to optimize the resources available. The challenge is to create code that allows me to infer wich is the best solution for this hipothesis. \n",
    "\n",
    "The 4 cities are called `Yharnam`, `Marsdrid`, `Ironforge` and `Churroland`. Each city has its own `population`.\n",
    "```python\n",
    "population = {\n",
    "    'Yharnam': 1000,\n",
    "    'Marsdrid': 2000,\n",
    "    'Ironforge': 3000,\n",
    "    'Churroland': 4000,\n",
    "}\n",
    "``` \n",
    "\n",
    "The cities are all connected to each other, with different `distances` between them (see attached PDF). There are also important points for life, like the three water sources, or wells. There's also a volcano that the Mars Geological Survey is monitoring. All these landmarks are defined by their coordinates, which are given in the `landmarks` dictionary. \n",
    "    \n",
    "```python\n",
    "# coordinates in kilometers\n",
    "landmarks = {\n",
    "    'Yharnam': (0, 0),\n",
    "    'Marsdrid': (0, 150),\n",
    "    'Ironforge': (100, 50),\n",
    "    'Churroland': (150, 100),\n",
    "    'Well 1': (0, 50),\n",
    "    'Well 2': (0, 100),\n",
    "    'Well 3': (100, 100),\n",
    "    'Volcano': (50, 100),\n",
    "}\n",
    "```\n",
    "\n"
   ]
  },
  {
   "cell_type": "code",
   "execution_count": 83,
   "metadata": {},
   "outputs": [],
   "source": [
    "population = {\n",
    "    'Yharnam': 1000,\n",
    "    'Marsdrid': 2000,\n",
    "    'Ironforge': 3000,\n",
    "    'Churroland': 4000,\n",
    "}\n",
    "\n",
    "landmarks = {\n",
    "    'Yharnam': (0, 0),\n",
    "    'Marsdrid': (0, 150),\n",
    "    'Ironforge': (100, 50),\n",
    "    'Churroland': (150, 100),\n",
    "    'Well 1': (0, 50),\n",
    "    'Well 2': (0, 100),\n",
    "    'Well 3': (100, 100),\n",
    "    'Volcano': (50, 100),\n",
    "}"
   ]
  },
  {
   "cell_type": "markdown",
   "metadata": {},
   "source": [
    "### Function for calculating distances "
   ]
  },
  {
   "cell_type": "code",
   "execution_count": 84,
   "metadata": {},
   "outputs": [],
   "source": [
    "import math\n",
    "\n",
    "def distance(point1, point2):\n",
    "    x1, y1 = point1\n",
    "    x2, y2 = point2\n",
    "    distance = math.sqrt((x2 - x1) ** 2 + (y2 - y1) ** 2)\n",
    "    return distance"
   ]
  },
  {
   "cell_type": "markdown",
   "metadata": {},
   "source": [
    "### Distance between landmarks\n",
    "\n",
    "Now that we know how to calculate the distance between two points, we can calculate the distance between two landmarks. \n",
    "\n",
    "Arguments:\n",
    "* `landmarks`: a dictionary with the coordinates of the landmarks\n",
    "* `landmarks_list`: a list of the landmarks we want to calculate the distance between. It should be a list of 2 strings, where each string is the name of a landmark.\n",
    "\n",
    "It returns the distance between them, using the function I previously wrote"
   ]
  },
  {
   "cell_type": "code",
   "execution_count": 85,
   "metadata": {},
   "outputs": [],
   "source": [
    "def distance_between_landmarks(landmarks, landmarks_list):\n",
    "    point1 = landmarks[landmarks_list[0]]\n",
    "    point2 = landmarks[landmarks_list[1]]\n",
    "    distance_between_landmarks = distance(point1, point2)\n",
    "    return distance_between_landmarks"
   ]
  },
  {
   "cell_type": "code",
   "execution_count": 86,
   "metadata": {},
   "outputs": [
    {
     "name": "stdout",
     "output_type": "stream",
     "text": [
      "The distance between Marsdrid and Ironforge is: 141.4213562373095\n"
     ]
    }
   ],
   "source": [
    "landmarks = {\n",
    "    'Yharnam': (0, 0),\n",
    "    'Marsdrid': (0, 150),\n",
    "    'Ironforge': (100, 50),\n",
    "    'Churroland': (150, 100),\n",
    "    'Well 1': (0, 50),\n",
    "    'Well 2': (0, 100),\n",
    "    'Well 3': (100, 100),\n",
    "    'Volcano': (50, 100),\n",
    "}\n",
    "\n",
    "\n",
    "landmarks_list = ['Marsdrid', 'Ironforge']\n",
    "distance = distance_between_landmarks(landmarks, landmarks_list)\n",
    "print(f\"The distance between {landmarks_list[0]} and {landmarks_list[1]} is: {distance}\")"
   ]
  },
  {
   "cell_type": "code",
   "execution_count": 4,
   "metadata": {},
   "outputs": [],
   "source": [
    "#Landmarks_list can be modified with any two landmarks to iterate the function"
   ]
  },
  {
   "cell_type": "markdown",
   "metadata": {},
   "source": [
    "### Water accesibilty \n",
    "\n",
    "Let's analyze which city has a better access to water. To do so, we need to calculate the distance between each city and each well, and then average the distances."
   ]
  },
  {
   "cell_type": "code",
   "execution_count": 87,
   "metadata": {},
   "outputs": [],
   "source": [
    "landmarks = {\n",
    "    'Yharnam': (0, 0),\n",
    "    'Marsdrid': (0, 150),\n",
    "    'Ironforge': (100, 50),\n",
    "    'Churroland': (150, 100),\n",
    "    'Well 1': (0, 50),\n",
    "    'Well 2': (0, 100),\n",
    "    'Well 3': (100, 100),\n",
    "    'Volcano': (50, 100),\n",
    "}\n",
    "\n",
    "cities = ['Yharnam', 'Marsdrid', 'Ironforge', 'Churroland']\n",
    "wells = ['Well 1', 'Well 2', 'Well 3']"
   ]
  },
  {
   "cell_type": "code",
   "execution_count": 88,
   "metadata": {},
   "outputs": [],
   "source": [
    "import math\n",
    "\n",
    "def distance(point1, point2):\n",
    "    x1, y1 = point1\n",
    "    x2, y2 = point2\n",
    "    distance = math.sqrt((x2 - x1) ** 2 + (y2 - y1) ** 2)\n",
    "    return distance\n",
    "\n",
    "dict_of_avg_distances = {}\n",
    "\n",
    "for city in cities:\n",
    "    distances_to_wells = {}\n",
    "\n",
    "    for well in wells:\n",
    "        distance_to_well = distance(landmarks[city], landmarks[well])\n",
    "        distances_to_wells[well] = distance_to_well\n",
    "\n",
    "    avg_distance = sum(distances_to_wells.values()) / len(distances_to_wells)\n",
    "    dict_of_avg_distances[city] = distances_to_wells"
   ]
  },
  {
   "cell_type": "code",
   "execution_count": 89,
   "metadata": {},
   "outputs": [
    {
     "data": {
      "text/plain": [
       "{'Well 1': 158.11388300841898, 'Well 2': 150.0, 'Well 3': 50.0}"
      ]
     },
     "execution_count": 89,
     "metadata": {},
     "output_type": "execute_result"
    }
   ],
   "source": [
    "distances_to_wells"
   ]
  },
  {
   "cell_type": "code",
   "execution_count": 90,
   "metadata": {},
   "outputs": [
    {
     "data": {
      "text/plain": [
       "{'Yharnam': {'Well 1': 50.0, 'Well 2': 100.0, 'Well 3': 141.4213562373095},\n",
       " 'Marsdrid': {'Well 1': 100.0, 'Well 2': 50.0, 'Well 3': 111.80339887498948},\n",
       " 'Ironforge': {'Well 1': 100.0, 'Well 2': 111.80339887498948, 'Well 3': 50.0},\n",
       " 'Churroland': {'Well 1': 158.11388300841898, 'Well 2': 150.0, 'Well 3': 50.0}}"
      ]
     },
     "execution_count": 90,
     "metadata": {},
     "output_type": "execute_result"
    }
   ],
   "source": [
    "dict_of_avg_distances"
   ]
  },
  {
   "cell_type": "code",
   "execution_count": 91,
   "metadata": {},
   "outputs": [
    {
     "name": "stdout",
     "output_type": "stream",
     "text": [
      "Average distances from Yharnam to wells:\n",
      "Well 1: 50.0\n",
      "Well 2: 100.0\n",
      "Well 3: 141.4213562373095\n",
      "\n",
      "Average distances from Marsdrid to wells:\n",
      "Well 1: 100.0\n",
      "Well 2: 50.0\n",
      "Well 3: 111.80339887498948\n",
      "\n",
      "Average distances from Ironforge to wells:\n",
      "Well 1: 100.0\n",
      "Well 2: 111.80339887498948\n",
      "Well 3: 50.0\n",
      "\n",
      "Average distances from Churroland to wells:\n",
      "Well 1: 158.11388300841898\n",
      "Well 2: 150.0\n",
      "Well 3: 50.0\n",
      "\n"
     ]
    }
   ],
   "source": [
    "for city, distances_to_wells in dict_of_avg_distances.items():\n",
    "    print(f\"Average distances from {city} to wells:\")\n",
    "    for well, distance in distances_to_wells.items():\n",
    "        print(f\"{well}: {distance}\")\n",
    "    print()\n",
    "\n",
    "#prints in a more readable way the average between cities and wells"
   ]
  },
  {
   "cell_type": "markdown",
   "metadata": {},
   "source": [
    "### Best /  Worst water accesibility \n",
    "\n",
    "Which city or cities have the best access to water? Which city or cities has the worst access to water?"
   ]
  },
  {
   "cell_type": "code",
   "execution_count": 92,
   "metadata": {},
   "outputs": [
    {
     "name": "stdout",
     "output_type": "stream",
     "text": [
      "City or cities with the best access to water:\n",
      "Yharnam\n",
      "Marsdrid\n",
      "Ironforge\n",
      "Churroland\n",
      "\n",
      "City or cities with the worst access to water:\n",
      "Churroland\n"
     ]
    }
   ],
   "source": [
    "best_access_distance = float('inf')\n",
    "worst_access_distance = float('-inf')\n",
    "best_access_cities = []\n",
    "worst_access_cities = []\n",
    "\n",
    "for city, distances_to_wells in dict_of_avg_distances.items():\n",
    "    min_distance = min(distances_to_wells.values())\n",
    "    max_distance = max(distances_to_wells.values())\n",
    "\n",
    "    if min_distance < best_access_distance:\n",
    "        best_access_distance = min_distance\n",
    "        best_access_cities = [city]\n",
    "    elif min_distance == best_access_distance:\n",
    "        best_access_cities.append(city)\n",
    "\n",
    "    if max_distance > worst_access_distance:\n",
    "        worst_access_distance = max_distance\n",
    "        worst_access_cities = [city]\n",
    "    elif max_distance == worst_access_distance:\n",
    "        worst_access_cities.append(city)\n",
    "\n",
    "print(\"City or cities with the best access to water:\")\n",
    "for city in best_access_cities:\n",
    "    print(city)\n",
    "\n",
    "print(\"\\nCity or cities with the worst access to water:\")\n",
    "for city in worst_access_cities:\n",
    "    print(city)\n",
    "#best acces is displayed in order of cities from Yharnam having the best acces"
   ]
  },
  {
   "cell_type": "markdown",
   "metadata": {},
   "source": [
    "### Cities and their distance to the volcano\n",
    "\n",
    "Now that we know which city has the best access to water, I'll create a dictionary with the cities as keys and their distance to the volcano as values"
   ]
  },
  {
   "cell_type": "code",
   "execution_count": 111,
   "metadata": {},
   "outputs": [
    {
     "name": "stdout",
     "output_type": "stream",
     "text": [
      "City distances to the volcano:\n",
      "{'Yharnam': 111.80339887498948, 'Marsdrid': 70.71067811865476, 'Ironforge': 70.71067811865476, 'Churroland': 100.0}\n"
     ]
    }
   ],
   "source": [
    "volcano_coordinates = landmarks['Volcano']\n",
    "city_distances_to_volcano = {}\n",
    "\n",
    "for city, coordinates in landmarks.items():\n",
    "    if city != 'Volcano' and not city.startswith('Well'):\n",
    "        distance = ((coordinates[0] - volcano_coordinates[0]) ** 2 + \n",
    "                    (coordinates[1] - volcano_coordinates[1]) ** 2) ** 0.5\n",
    "        city_distances_to_volcano[city] = distance\n",
    "\n",
    "print(\"City distances to the volcano:\")\n",
    "print(city_distances_to_volcano)"
   ]
  },
  {
   "cell_type": "markdown",
   "metadata": {},
   "source": [
    "### Explosion best / worse scenario\n",
    "\n",
    "The Geological Survey found that in case of an eruption, the explosion will have a radius between 75 and 110 km.\n",
    "* In the best case scenario, the explosion will be 75 km away from the volcano.\n",
    "* In the worst case scenario, the explosion will be 110 km away from the volcano.\n",
    "\n",
    "Knowing this, which city or cities are at risk of being destroyed by the volcano in the best case scenario? Which city or cities are at risk of being destroyed by the volcano in the worst case scenario?\n",
    "\n",
    "For this, I'll write a function that takes in the `landmarks` and the explosion radius in each scenario, and returns which cities are at rist of being destroyed."
   ]
  },
  {
   "cell_type": "code",
   "execution_count": 112,
   "metadata": {},
   "outputs": [],
   "source": [
    "def cities_at_risk(landmarks, explosion_radius):\n",
    "    volcano_coordinates = landmarks['Volcano']\n",
    "    cities_at_risk_best_case = []\n",
    "    cities_at_risk_worst_case = []\n",
    "\n",
    "    for city, coordinates in landmarks.items():\n",
    "        if city != 'Volcano' and not city.startswith('Well'):\n",
    "            distance = ((coordinates[0] - volcano_coordinates[0]) ** 2 + \n",
    "                        (coordinates[1] - volcano_coordinates[1]) ** 2) ** 0.5\n",
    "\n",
    "            if distance <= explosion_radius[0]:\n",
    "                cities_at_risk_best_case.append(city)\n",
    "\n",
    "            if distance <= explosion_radius[1]:\n",
    "                cities_at_risk_worst_case.append(city)\n",
    "\n",
    "    return cities_at_risk_best_case, cities_at_risk_worst_case"
   ]
  },
  {
   "cell_type": "code",
   "execution_count": 113,
   "metadata": {},
   "outputs": [
    {
     "name": "stdout",
     "output_type": "stream",
     "text": [
      "Cities at risk in the best case scenario:\n",
      "['Marsdrid', 'Ironforge']\n",
      "Cities at risk in the worst case scenario:\n",
      "['Marsdrid', 'Ironforge', 'Churroland']\n"
     ]
    }
   ],
   "source": [
    "best_case_radius = 75\n",
    "worst_case_radius = 110\n",
    "\n",
    "cities_at_risk_best_case, cities_at_risk_worst_case = cities_at_risk(landmarks, \n",
    "                                                     [best_case_radius, worst_case_radius])\n",
    "\n",
    "print(\"Cities at risk in the best case scenario:\")\n",
    "print(cities_at_risk_best_case)\n",
    "\n",
    "print(\"Cities at risk in the worst case scenario:\")\n",
    "print(cities_at_risk_worst_case)"
   ]
  },
  {
   "cell_type": "markdown",
   "metadata": {},
   "source": [
    "### Worst case scenario explosion\n",
    "\n",
    "Our worst fears have come true. The volcano has increased its activity and our geologist have estimated the radius of explosion: 90 km.\n",
    "\n",
    "We need to evacuate the cities at risk. How many people will we have to evacuate?"
   ]
  },
  {
   "cell_type": "code",
   "execution_count": 96,
   "metadata": {},
   "outputs": [],
   "source": [
    "def population_to_evacuate(landmarks, population, explosion_radius):\n",
    "    volcano_coordinates = landmarks['Volcano']\n",
    "    people_at_risk = 0\n",
    "\n",
    "    for city, coordinates in landmarks.items():\n",
    "        if city != 'Volcano' and not city.startswith('Well'):\n",
    "            distance = ((coordinates[0] - volcano_coordinates[0]) ** 2 + (coordinates[1] - volcano_coordinates[1]) ** 2) ** 0.5\n",
    "\n",
    "            if distance <= explosion_radius:\n",
    "                people_at_risk += population[city]\n",
    "\n",
    "    return people_at_risk"
   ]
  },
  {
   "cell_type": "code",
   "execution_count": 97,
   "metadata": {},
   "outputs": [
    {
     "name": "stdout",
     "output_type": "stream",
     "text": [
      "Number of people to evacuate:\n",
      "5000\n"
     ]
    }
   ],
   "source": [
    "explosion_radius = 90\n",
    "\n",
    "people_to_evacuate = population_to_evacuate(landmarks, population, explosion_radius)\n",
    "\n",
    "print(\"Number of people to evacuate:\")\n",
    "print(people_to_evacuate)"
   ]
  },
  {
   "cell_type": "markdown",
   "metadata": {},
   "source": [
    "### Evacuation and safe cities\n",
    "\n",
    "Which cities are the ones we need to evacuate? Which cities are the ones we can keep?"
   ]
  },
  {
   "cell_type": "code",
   "execution_count": 114,
   "metadata": {},
   "outputs": [],
   "source": [
    "def status_of_cities(landmarks, explosion_radius):\n",
    "    volcano_coordinates = landmarks['Volcano']\n",
    "    dict_status = {'keep': [], 'evacuate': []}\n",
    "\n",
    "    for city, coordinates in landmarks.items():\n",
    "        if city != 'Volcano' and not city.startswith('Well'):\n",
    "            distance = ((coordinates[0] - volcano_coordinates[0]) ** 2 + \n",
    "                        (coordinates[1] - volcano_coordinates[1]) ** 2) ** 0.5\n",
    "\n",
    "            if distance <= explosion_radius:\n",
    "                dict_status['evacuate'].append(city)\n",
    "            else:\n",
    "                dict_status['keep'].append(city)\n",
    "\n",
    "    return dict_status"
   ]
  },
  {
   "cell_type": "code",
   "execution_count": 99,
   "metadata": {},
   "outputs": [
    {
     "name": "stdout",
     "output_type": "stream",
     "text": [
      "Status of cities:\n",
      "{'keep': ['Yharnam', 'Churroland'], 'evacuate': ['Marsdrid', 'Ironforge']}\n"
     ]
    }
   ],
   "source": [
    "explosion_radius = 90\n",
    "\n",
    "city_status = status_of_cities(landmarks, explosion_radius)\n",
    "\n",
    "print(\"Status of cities:\")\n",
    "print(city_status)"
   ]
  },
  {
   "cell_type": "markdown",
   "metadata": {},
   "source": [
    "### Conclusions and veredict\n",
    "\n",
    "What's the best way to evacuate the cities? Let's think of the difficulty for the evacuation as the product of the population to be evacuated and the distance to which they're being evacuated.\n",
    "\n",
    "We can evacuate all the population to the same city, or we can split the population between the cities, according to the distance between their original city and the city they're being evacuated to."
   ]
  },
  {
   "cell_type": "code",
   "execution_count": 109,
   "metadata": {},
   "outputs": [],
   "source": [
    "def calculate_difficulty(population, distance):\n",
    "    return population * distance\n",
    "\n",
    "def determine_evacuation_strategy(population, city_distances, safe_cities, volcano_distance):\n",
    "    single_city_strategy = []\n",
    "    multiple_cities_strategy = []\n",
    "    total_difficulty = 0\n",
    "\n",
    "    for city, dist_to_volcano in city_distances.items():\n",
    "        if city in safe_cities:\n",
    "            single_city_strategy.append(city)\n",
    "            total_difficulty += calculate_difficulty(population[city], volcano_distance)\n",
    "        else:\n",
    "            closest_cities = [c for c in sorted(dist_to_volcano, key=dist_to_volcano.get)\n",
    "                              if c in safe_cities]\n",
    "            closest_city = closest_cities[0] if closest_cities else None\n",
    "            if closest_city:\n",
    "                multiple_cities_strategy.append((city, closest_city))\n",
    "                total_difficulty += calculate_difficulty(population[city], \n",
    "                                    city_distances[city][closest_city])\n",
    "\n",
    "    if total_difficulty <= calculate_difficulty(population[closest_city], volcano_distance):\n",
    "        return {\n",
    "            'strategy': 'single_city',\n",
    "            'cities': single_city_strategy,\n",
    "            'difficulty': total_difficulty\n",
    "        }\n",
    "    else:\n",
    "        return {\n",
    "            'strategy': 'multiple_cities',\n",
    "            'cities': multiple_cities_strategy,\n",
    "            'difficulty': total_difficulty\n",
    "        }"
   ]
  },
  {
   "cell_type": "code",
   "execution_count": 115,
   "metadata": {},
   "outputs": [
    {
     "name": "stdout",
     "output_type": "stream",
     "text": [
      "Evacuation Strategy: {'strategy': 'multiple_cities', 'cities': [('Marsdrid', 'Churroland'), ('Ironforge', 'Yharnam')], 'difficulty': 950000}\n"
     ]
    }
   ],
   "source": [
    "population = {\n",
    "    'Yharnam': 1000,\n",
    "    'Marsdrid': 2000,\n",
    "    'Ironforge': 3000,\n",
    "    'Churroland': 4000,\n",
    "}\n",
    "\n",
    "safe_cities = ['Yharnam', 'Churroland']\n",
    "\n",
    "city_distances = {\n",
    "    'Yharnam': {'Ironforge': 100, 'Churroland': 150},\n",
    "    'Marsdrid': {'Ironforge': 50, 'Churroland': 100},\n",
    "    'Ironforge': {'Yharnam': 100, 'Marsdrid': 50, 'Churroland': 100},\n",
    "    'Churroland': {'Yharnam': 150, 'Ironforge': 100}\n",
    "}\n",
    "\n",
    "volcano_distance = 90\n",
    "\n",
    "evacuation_strategy = determine_evacuation_strategy(population, city_distances, \n",
    "                                                    safe_cities, volcano_distance)\n",
    "\n",
    "print(\"Evacuation Strategy:\", evacuation_strategy)"
   ]
  },
  {
   "cell_type": "markdown",
   "metadata": {},
   "source": [
    "# Breakdown of the result:\n",
    "\n",
    "These code is taking into account Curroland and Yharnam as the safe cities, given from the code before where the cities to keep in the scenario of the volcano exploding with a 90 radius resulted in this two cities.\n",
    "1. Strategy: The best strategy to use in this case is to evacuate to multiple cities.\n",
    "2. Cities:  [('Marsdrid', 'Churroland'), ('Ironforge', 'Yharnam')]\n",
    "This gives us a list of tuples, which represent the pair of cities that need to be\n",
    "evacuated and where. We can see Marsdrid needs to Evacuate to Churroland, and Ironforge \n",
    "needs to evacuate to Yharnam, it's closest safe city. \n",
    "3. Difficulty: 950000\n",
    "This is the calculated difficulty for the evacuation strategy. It indicates the result of the multiplication of the population of each city by the distance to the safe city they are evacuating to and summing up those values.\n",
    "\n",
    "The evacuation strategy is determined based on the code comparing the total difficulty of the multiple cities strategy with the difficulty of a single city strategy. If the total difficulty of the multiple cities strategy is lower, it is considered the better strategy.\n",
    "\n",
    "Overall, the result suggests that evacuating Marsdrid to Churroland and Ironforge to Yharnam will result in the lowest difficulty for the given population and distances."
   ]
  }
 ],
 "metadata": {
  "kernelspec": {
   "display_name": "Python [conda env:Python1Environment] *",
   "language": "python",
   "name": "conda-env-Python1Environment-py"
  },
  "language_info": {
   "codemirror_mode": {
    "name": "ipython",
    "version": 3
   },
   "file_extension": ".py",
   "mimetype": "text/x-python",
   "name": "python",
   "nbconvert_exporter": "python",
   "pygments_lexer": "ipython3",
   "version": "3.9.16"
  },
  "vscode": {
   "interpreter": {
    "hash": "a9f295c814a5ce7ff0b0a20f2b13117bfaf008fc7980e281f2c2bfa8e9ec0fbf"
   }
  }
 },
 "nbformat": 4,
 "nbformat_minor": 4
}
